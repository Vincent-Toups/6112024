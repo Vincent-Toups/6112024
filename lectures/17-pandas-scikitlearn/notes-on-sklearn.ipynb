{
 "cells": [
  {
   "cell_type": "markdown",
   "id": "fca936ef-6954-4420-b24e-9ae037565bff",
   "metadata": {},
   "source": [
    "sklearn: A Pile of Machine Learning Tools\n",
    "=========================================\n",
    "\n",
    "There is not a lot to say about sklearn that you can't learn from the library's [excellent documentation](https://scikit-learn.org/stable/user_guide.html).\n",
    "\n",
    "The main idea is that it is a large collection of machine learning methods with a relatively unified API for each that involves a _fit_ and a _predict_ method on each object (where appropriate, some methods clearly don't predict or don't fit or only do them in one step or have other semantics).\n",
    "\n",
    "We've seen several examples of sklearn in class already. We called them from reticulate sometimes, but its often easier and more consistent and less error prone to use python directly. Let's try something here:"
   ]
  },
  {
   "cell_type": "code",
   "execution_count": 3,
   "id": "756d5703-84c2-4b97-99b7-2e645cf1a7bc",
   "metadata": {},
   "outputs": [],
   "source": [
    "import sklearn"
   ]
  },
  {
   "cell_type": "code",
   "execution_count": null,
   "id": "da13fff9-37e7-4a4a-9c44-831c90d8956c",
   "metadata": {},
   "outputs": [],
   "source": []
  }
 ],
 "metadata": {
  "kernelspec": {
   "display_name": "Python 3 (ipykernel)",
   "language": "python",
   "name": "python3"
  },
  "language_info": {
   "codemirror_mode": {
    "name": "ipython",
    "version": 3
   },
   "file_extension": ".py",
   "mimetype": "text/x-python",
   "name": "python",
   "nbconvert_exporter": "python",
   "pygments_lexer": "ipython3",
   "version": "3.8.10"
  }
 },
 "nbformat": 4,
 "nbformat_minor": 5
}

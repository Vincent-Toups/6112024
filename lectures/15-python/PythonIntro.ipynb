{
 "cells": [
  {
   "cell_type": "markdown",
   "metadata": {},
   "source": [
    "Python\n",
    "======\n",
    "\n",
    "When I discovered Python in around the year 2000 it was a revelation.\n",
    "\n",
    "Before that I had programmed almost entirely in C or Basic. Python\n",
    "was a huge improvement in usability over those languages. (At the time I didn't know about Scheme or Lisp or Smalltalk or Javascript \n",
    "or R - all languages I strongly prefer today).Sometime in the last few years Python has experienced rapid growth as\n",
    "a data science language with packages like numpy, scipy, sklearn, etc \n",
    "providing a large library base for data science. If you had to compare R and Python in terms of libraries, you'd say R \n",
    "is more the statistician's language and Python is more the data scientist's.\n",
    "\n",
    "I personally think from a design point of view R is better in many ways. But \n",
    "some machine learning implementations are better supported in Python. You just\n",
    "have to put up with it.\n",
    "\n"
   ]
  },
  {
   "cell_type": "markdown",
   "metadata": {},
   "source": [
    "Jupyter\n",
    "=======\n",
    "\n",
    "Jupyter (specifically Jupyter Lab) is roughly the equivalent of Rstudio for Python. It places a much higher emphasis on Notebooks.\n",
    "\n",
    "Docker\n",
    "======\n",
    "\n",
    "You can run a Jupyter lab session from inside an extended rocker/verse image with these lines:\n",
    "\n",
    "```\n",
    "RUN apt update -y && apt install -y python3-pip\n",
    "RUN pip3 install jupyter jupyterlab\n",
    "```\n",
    "\n",
    "A similar command line to the one we've been using to start RStudio can start Jupyter:\n",
    "\n",
    "```\n",
    "docker run -p 8765:8765 -v \\\n",
    " `pwd`:/home/rstudio \\\n",
    "  -e PASSWORD=some_password \\\n",
    "  -it l14 sudo -H -u rstudio /bin/bash \\\n",
    "  -c \"cd ~/; jupyter lab --ip 0.0.0.0 --port 8765\"\n",
    "```\n",
    "\n",
    "Note that you want to replace `pwd` with something like \"$(pwd)\" if you have spaces in your path on a mac. You might need to literally type your folder location if you are running in windows."
   ]
  },
  {
   "cell_type": "markdown",
   "metadata": {},
   "source": [
    "Python Basics\n",
    "=============\n",
    "\n",
    "Python supports the usual programming language things:"
   ]
  },
  {
   "cell_type": "code",
   "execution_count": 1,
   "metadata": {},
   "outputs": [
    {
     "data": {
      "text/plain": [
       "50"
      ]
     },
     "execution_count": 1,
     "metadata": {},
     "output_type": "execute_result"
    }
   ],
   "source": [
    "3*12 + 14"
   ]
  },
  {
   "cell_type": "markdown",
   "metadata": {},
   "source": [
    "Python is not, at base, an array language."
   ]
  },
  {
   "cell_type": "code",
   "execution_count": 2,
   "metadata": {},
   "outputs": [
    {
     "ename": "TypeError",
     "evalue": "unsupported operand type(s) for +: 'int' and 'list'",
     "output_type": "error",
     "traceback": [
      "\u001b[0;31m---------------------------------------------------------------------------\u001b[0m",
      "\u001b[0;31mTypeError\u001b[0m                                 Traceback (most recent call last)",
      "Input \u001b[0;32mIn [2]\u001b[0m, in \u001b[0;36m<cell line: 1>\u001b[0;34m()\u001b[0m\n\u001b[0;32m----> 1\u001b[0m \u001b[38;5;241;43m3\u001b[39;49m\u001b[43m \u001b[49m\u001b[38;5;241;43m+\u001b[39;49m\u001b[43m \u001b[49m\u001b[43m[\u001b[49m\u001b[38;5;241;43m1\u001b[39;49m\u001b[43m,\u001b[49m\u001b[38;5;241;43m2\u001b[39;49m\u001b[43m,\u001b[49m\u001b[38;5;241;43m3\u001b[39;49m\u001b[43m]\u001b[49m\n",
      "\u001b[0;31mTypeError\u001b[0m: unsupported operand type(s) for +: 'int' and 'list'"
     ]
    }
   ],
   "source": [
    "3 + [1,2,3]"
   ]
  },
  {
   "cell_type": "markdown",
   "metadata": {},
   "source": [
    "In fact, the built in list type is heterogenous:"
   ]
  },
  {
   "cell_type": "code",
   "execution_count": 4,
   "metadata": {},
   "outputs": [
    {
     "data": {
      "text/plain": [
       "('x', 'y')"
      ]
     },
     "execution_count": 4,
     "metadata": {},
     "output_type": "execute_result"
    }
   ],
   "source": [
    "[\"x\",1,\"y\",[]]\n",
    "(\"x\",\"y\")"
   ]
  },
  {
   "cell_type": "markdown",
   "metadata": {},
   "source": [
    "Indexing Lists\n",
    "==============\n",
    "\n",
    "The objects denoted by `[a,b,c,...]` are lists. Lists are indexed similarly to R but starting from 0.\n"
   ]
  },
  {
   "cell_type": "code",
   "execution_count": 5,
   "metadata": {},
   "outputs": [
    {
     "data": {
      "text/plain": [
       "'Hello'"
      ]
     },
     "execution_count": 5,
     "metadata": {},
     "output_type": "execute_result"
    }
   ],
   "source": [
    "a = [\"Hello\", \"Cruel\", \"World\"];\n",
    "a[0]"
   ]
  },
  {
   "cell_type": "markdown",
   "metadata": {},
   "source": [
    "Note that we can slice lists sort of like we do in R, but since Python has the notion of truly atomic values like numbers and strings, there is a difference between a slice and an index. In R a single bracket index with one value conceptually returns a vector of one value. But not in Python. A slice returns a list, a index returns a value."
   ]
  },
  {
   "cell_type": "code",
   "execution_count": 6,
   "metadata": {},
   "outputs": [
    {
     "name": "stdout",
     "output_type": "stream",
     "text": [
      "[1, 2, 3, 4, 5]\n",
      "[1, 2, 3]\n",
      "[1, 1000, 3]\n",
      "[1, 2, 3, 4, 5]\n"
     ]
    }
   ],
   "source": [
    "x = [1,2,3,4,5];\n",
    "y = x[0:3]\n",
    "print(x);\n",
    "print(y)\n",
    "y[1] = 1000\n",
    "print(y)\n",
    "print(x)"
   ]
  },
  {
   "cell_type": "markdown",
   "metadata": {},
   "source": [
    "These features makes the built in lists less than efficient for doing numerical computations. We'll have to use a library to implement similar features in Python.\n",
    "\n",
    "Object Orientation\n",
    "==================\n",
    "\n",
    "Python is object oriented in a much more traditional sense than R. Everything in Python is an object. Unlike in R, the primary way to experience their objectness is by calling methods:"
   ]
  },
  {
   "cell_type": "code",
   "execution_count": 5,
   "metadata": {},
   "outputs": [
    {
     "data": {
      "text/plain": [
       "[1, 2, 3, 'Some value']"
      ]
     },
     "execution_count": 5,
     "metadata": {},
     "output_type": "execute_result"
    }
   ],
   "source": [
    "l = [1,2,3]\n",
    "l.append(\"Some value\")\n",
    "# l$append\n",
    "# <list>append(l, \"Some Value\")\n",
    "\n"
   ]
  },
  {
   "cell_type": "markdown",
   "metadata": {},
   "source": [
    "Note a few things here.\n",
    "\n",
    "1. `=` is the assignment operator. The only one. Unlike R.\n",
    "2. we use `.` to mean \"access a method or property of the object before the .\" In R \".\" is just another character that might appear in a variable name and has no special properties. R's `$` is the closest thing to `.` but `.` does more. `$` is not an allowed character in python variables and doesn't have a meaning.\n",
    "3. `l.append` is the name of the \"append\" method on the \"l\" object (a list). Note that calling append \"mutates\" the list bound to \"l\". This is atypical for R where we typically create new values rather than mutate old ones.\n",
    "4. Note again that we can put different types of things in our list.\n",
    "\n",
    "Numbers are, of course, immutable. \n",
    "\n",
    "Everything really is an object in a sense. You can call methods on numbers:"
   ]
  },
  {
   "cell_type": "code",
   "execution_count": 7,
   "metadata": {},
   "outputs": [
    {
     "name": "stdout",
     "output_type": "stream",
     "text": [
      "Help on built-in function to_bytes:\n",
      "\n",
      "to_bytes(length, byteorder, *, signed=False) method of builtins.int instance\n",
      "    Return an array of bytes representing an integer.\n",
      "    \n",
      "    length\n",
      "      Length of bytes object to use.  An OverflowError is raised if the\n",
      "      integer is not representable with the given number of bytes.\n",
      "    byteorder\n",
      "      The byte order used to represent the integer.  If byteorder is 'big',\n",
      "      the most significant byte is at the beginning of the byte array.  If\n",
      "      byteorder is 'little', the most significant byte is at the end of the\n",
      "      byte array.  To request the native byte order of the host system, use\n",
      "      `sys.byteorder' as the byte order value.\n",
      "    signed\n",
      "      Determines whether two's complement is used to represent the integer.\n",
      "      If signed is False and a negative integer is given, an OverflowError\n",
      "      is raised.\n",
      "\n"
     ]
    }
   ],
   "source": [
    "(10).to_bytes(8,\"little\")\n",
    "help((10).to_bytes)"
   ]
  },
  {
   "cell_type": "markdown",
   "metadata": {},
   "source": [
    "Variables, Bindings, Environments, Functions\n",
    "============================================\n",
    "\n",
    "Python is somewhat simple compared to R here. `=` introduces a variable bindings in the local scope exclusively. At the top level `=` introduces a global variable.\n",
    "Here we create a binding to \"x\" of \"10\" at the top level. The \"=\" sign creates a local binding inside the body of the function f. In the body of the function \"x\" refers to that binding."
   ]
  },
  {
   "cell_type": "code",
   "execution_count": 8,
   "metadata": {},
   "outputs": [
    {
     "data": {
      "text/plain": [
       "[<function __main__.f()>, 11, 10]"
      ]
     },
     "execution_count": 8,
     "metadata": {},
     "output_type": "execute_result"
    }
   ],
   "source": [
    "x = 10\n",
    "def f():\n",
    "    x=11\n",
    "    return x\n",
    "[f,f(),x]"
   ]
  },
  {
   "cell_type": "markdown",
   "metadata": {},
   "source": [
    "Things to note:\n",
    "    \n",
    "1. Python is whitespace sensitive. The body of functions must be indented compared to the enclosing context. That \":\" at the end of the `def` line is also required.\n",
    "2. Unlike in R we _must_ explicitely return a value from functions using \"return\". \"return\" terminates the function immediately if it is placed in some non-tail position.\n",
    "3. These are some of the worst features of python that tell you it was designed by a rube.\n",
    "\n",
    "Mutating an Enclosing Variable\n",
    "==============================\n",
    "\n",
    "If you want to change global variable binding (as you would do with \"<<-\" in R) you have to make this desire known by declaring the variable global in your function."
   ]
  },
  {
   "cell_type": "code",
   "execution_count": 20,
   "metadata": {},
   "outputs": [
    {
     "data": {
      "text/plain": [
       "[100, 100]"
      ]
     },
     "execution_count": 20,
     "metadata": {},
     "output_type": "execute_result"
    }
   ],
   "source": [
    "y = 10;\n",
    "def set_y(v):\n",
    "    global y\n",
    "    y = v\n",
    "    return y\n",
    "[set_y(100),y]"
   ]
  },
  {
   "cell_type": "markdown",
   "metadata": {},
   "source": [
    "Things become increasingly absurd as you may nest scopes:"
   ]
  },
  {
   "cell_type": "code",
   "execution_count": 8,
   "metadata": {},
   "outputs": [
    {
     "name": "stdout",
     "output_type": "stream",
     "text": [
      "[0, 1, 2]\n",
      "[10, 11, 12]\n"
     ]
    }
   ],
   "source": [
    "def make_counter(start_from):\n",
    "    state = start_from;\n",
    "    def counter():\n",
    "        nonlocal state\n",
    "        cv = state;\n",
    "        state = state + 1;\n",
    "        return cv;\n",
    "    return counter;\n",
    "\n",
    "c0 = make_counter(0);\n",
    "c10 = make_counter(10);\n",
    "\n",
    "print([c0(), c0(), c0()])\n",
    "print([c10(), c10(), c10()])"
   ]
  },
  {
   "cell_type": "markdown",
   "metadata": {},
   "source": [
    "A global variable cannot be declared \"nonlocal\" even though the relationship which obtains between a function scope and a global scope is the same as one obtained between two function scopes. This doesn't really matter that much but it chaps my britches.\n",
    "\n",
    "Conditionals and Loops\n",
    "======================\n",
    "\n",
    "If\n",
    "--"
   ]
  },
  {
   "cell_type": "code",
   "execution_count": 22,
   "metadata": {},
   "outputs": [
    {
     "name": "stdout",
     "output_type": "stream",
     "text": [
      "Hiho\n"
     ]
    }
   ],
   "source": [
    "x = 1\n",
    "y = 2\n",
    "if x < y :\n",
    "    print(\"Hiho\")\n",
    "    print(\"Hiho\")\n",
    "else:\n",
    "    print(\"Silver\")"
   ]
  },
  {
   "cell_type": "markdown",
   "metadata": {},
   "source": [
    "Note the \":\" and indentation. Also note that you do not need an enclosing () for the conditions.\n",
    "If statements can have many legs:"
   ]
  },
  {
   "cell_type": "code",
   "execution_count": null,
   "metadata": {},
   "outputs": [],
   "source": [
    "if x < y:\n",
    "    print(\"smaller\")\n",
    "elif x == y:\n",
    "    print(\"equal\")\n",
    "else:\n",
    "    print(\"larger\")"
   ]
  },
  {
   "cell_type": "markdown",
   "metadata": {},
   "source": [
    "Finally note that if statements don't produce any values. They only perform side effects. The following function returns no value at all."
   ]
  },
  {
   "cell_type": "code",
   "execution_count": 23,
   "metadata": {},
   "outputs": [],
   "source": [
    "def if_example(x,y):\n",
    "    if x < y:\n",
    "        \"smaller\"\n",
    "    elif x == y:\n",
    "        \"equal\"\n",
    "    else:\n",
    "        \"larger\""
   ]
  },
  {
   "cell_type": "markdown",
   "metadata": {},
   "source": [
    "It should look like this:"
   ]
  },
  {
   "cell_type": "code",
   "execution_count": 25,
   "metadata": {},
   "outputs": [],
   "source": [
    "def if_example(x,y):\n",
    "    if x < y:\n",
    "        return \"smaller\"\n",
    "    elif x == y:\n",
    "        return \"equal\"\n",
    "    else:\n",
    "        return \"larger\""
   ]
  },
  {
   "cell_type": "markdown",
   "metadata": {},
   "source": [
    "Loops and Comprehensions\n",
    "------------------------\n",
    "\n",
    "Loops come in a few flavors."
   ]
  },
  {
   "cell_type": "code",
   "execution_count": 26,
   "metadata": {},
   "outputs": [
    {
     "name": "stdout",
     "output_type": "stream",
     "text": [
      "1\n",
      "2\n",
      "3\n"
     ]
    }
   ],
   "source": [
    "for x in [1,2,3]:\n",
    "    print(x)"
   ]
  },
  {
   "cell_type": "code",
   "execution_count": 27,
   "metadata": {},
   "outputs": [
    {
     "name": "stdout",
     "output_type": "stream",
     "text": [
      "0\n",
      "1\n",
      "2\n",
      "3\n",
      "4\n",
      "5\n",
      "6\n",
      "7\n",
      "8\n",
      "9\n"
     ]
    }
   ],
   "source": [
    "for x in range(10):\n",
    "    print(x)"
   ]
  },
  {
   "cell_type": "markdown",
   "metadata": {},
   "source": [
    "This is a good time to remark upon the fact that python is zero indexed based. Thus the `range` function returns a list of indexes for an arrange of the input length.\n",
    "\n",
    "While loops are predictable at this point:"
   ]
  },
  {
   "cell_type": "code",
   "execution_count": 28,
   "metadata": {},
   "outputs": [
    {
     "name": "stdout",
     "output_type": "stream",
     "text": [
      "0\n",
      "1\n",
      "2\n",
      "3\n",
      "4\n",
      "5\n",
      "6\n",
      "7\n",
      "8\n",
      "9\n"
     ]
    }
   ],
   "source": [
    "x = 0;\n",
    "while x < 10:\n",
    "    print(x)\n",
    "    x = x + 1;"
   ]
  },
  {
   "cell_type": "markdown",
   "metadata": {},
   "source": [
    "We can see from this example that for and while loops do not create their own contexts in their body. If they did we'd need a \"global x\" above.\n",
    "\n",
    "Comprehensions\n",
    "--------------\n",
    "\n",
    "Comprehensions are a nice feature if you don't know about functional programming. They let you construct new lists from old lists and often this is what you want when you think you want a loop:"
   ]
  },
  {
   "cell_type": "code",
   "execution_count": 9,
   "metadata": {},
   "outputs": [
    {
     "data": {
      "text/plain": [
       "[2, 3, 4]"
      ]
     },
     "execution_count": 9,
     "metadata": {},
     "output_type": "execute_result"
    }
   ],
   "source": [
    "x = [1,2,3]\n",
    "x_plus_one = [e + 1 for e in x]\n",
    "x_plus_one"
   ]
  },
  {
   "cell_type": "markdown",
   "metadata": {},
   "source": [
    "Comprehensions can get somewhat complex: "
   ]
  },
  {
   "cell_type": "code",
   "execution_count": 32,
   "metadata": {},
   "outputs": [
    {
     "data": {
      "text/plain": [
       "[2, 4, 6, 8, 10]"
      ]
     },
     "execution_count": 32,
     "metadata": {},
     "output_type": "execute_result"
    }
   ],
   "source": [
    "def odd(n):\n",
    "    return (n % 2) == 1\n",
    "\n",
    "[e + 1 for e in range(10) if odd(e)]"
   ]
  },
  {
   "cell_type": "markdown",
   "metadata": {},
   "source": [
    "Anonymous Functions\n",
    "===================\n",
    "\n",
    "Another way that Python is broken is that anonymous functions are pretty limited. Note that we always have to give a name during a `def` in Python. In R, the `function` form returns a function which we bind to a name via `<-`. We don't have to give it a name and often we don't. \n",
    "\n",
    "In python there is no equivalent. There are `lambda` expressions, however."
   ]
  },
  {
   "cell_type": "code",
   "execution_count": 34,
   "metadata": {},
   "outputs": [
    {
     "data": {
      "text/plain": [
       "[0, 2, 4, 6, 8, 10, 12, 14, 16, 18]"
      ]
     },
     "execution_count": 34,
     "metadata": {},
     "output_type": "execute_result"
    }
   ],
   "source": [
    "def map(l, f):\n",
    "    return [f(x) for x in l]\n",
    "\n",
    "def square(x):\n",
    "    return x*x;\n",
    "\n",
    "times_two = lambda x: x*2;\n",
    "\n",
    "map(range(10),square)"
   ]
  },
  {
   "cell_type": "markdown",
   "metadata": {},
   "source": [
    "Lambda expressions are limited to a single expression in their body. You cannot create new variable bindings inside of them.  This is a big limitation on their expressiveness.\n",
    "\n",
    "All is not lost, however. Functions in Python are first order objects, so you can say:"
   ]
  },
  {
   "cell_type": "code",
   "execution_count": 35,
   "metadata": {},
   "outputs": [
    {
     "data": {
      "text/plain": [
       "[0, 3, 6, 9, 12, 15, 18, 21, 24, 27]"
      ]
     },
     "execution_count": 35,
     "metadata": {},
     "output_type": "execute_result"
    }
   ],
   "source": [
    "def times_3(x):\n",
    "    return x * 3\n",
    "map(range(10), times_3)"
   ]
  },
  {
   "cell_type": "markdown",
   "metadata": {},
   "source": [
    "Since we can nest function definitions this gives us most of what we want. Note that `lambda` expressions are the only sorts of functions where we don't need to say \"return\" to return a value."
   ]
  },
  {
   "cell_type": "markdown",
   "metadata": {},
   "source": [
    "Dictionaries\n",
    "============\n",
    "\n",
    "Dictionaries are used extensively in Python to represent adhoc objects. They simply map names (strings) to values of any type. They can be created with the following syntax:"
   ]
  },
  {
   "cell_type": "code",
   "execution_count": 13,
   "metadata": {},
   "outputs": [
    {
     "name": "stdout",
     "output_type": "stream",
     "text": [
      "tophat\n"
     ]
    }
   ],
   "source": [
    "d = {\"x\":10, \"y\":11,\"z\":\"tophat\"}\n",
    "print(d[\"z\"])\n"
   ]
  },
  {
   "cell_type": "markdown",
   "metadata": {},
   "source": [
    "It is worth meditating on the fact that most array types in R support named values and thus behave like dictionaries. In Python these types are disjoint. As we'll see, the conceptual simplicity of R really shines when we get to dataframes."
   ]
  },
  {
   "cell_type": "markdown",
   "metadata": {},
   "source": [
    "Classes and Objects\n",
    "===================\n",
    "\n",
    "R is strongly object oriented but the typical programmer doesn't deal with classes directly. In Python that is less true, so let's go over what classes and objects are.\n",
    "\n",
    "1. A class is a description of a set of objects. It says \"these are values these objects have inside them and the methods that the objects support\"\n",
    "2. An instance is one realization of the class. We create instances and then access their data and methods."
   ]
  },
  {
   "cell_type": "code",
   "execution_count": 1,
   "metadata": {},
   "outputs": [
    {
     "name": "stdout",
     "output_type": "stream",
     "text": [
      "<10, 0>\n",
      "<-2.2392415057677244, 9.746065743614041>\n",
      "10.000000000000002\n"
     ]
    }
   ],
   "source": [
    "from random import random\n",
    "from math import sqrt, sin, cos, pi\n",
    "\n",
    "class Person:\n",
    "    first_name = \"\"\n",
    "    last_name = \"\"\n",
    "    \n",
    "    def __init__(self, first, last):\n",
    "        first_name = first\n",
    "        last_name = last;\n",
    "        \n",
    "class Employee(Person):\n",
    "    tax_id_no = 0;\n",
    "    def __init__(self, first, last, tax_id):\n",
    "        super(Person,self)(first, last);\n",
    "        self.tax_id = tax_id;\n",
    "\n",
    "class Point:\n",
    "    x = 0\n",
    "    y = 0\n",
    "    def __init__(self, x, y):\n",
    "        self.x = x;\n",
    "        self.y = y;\n",
    "        \n",
    "    def length(self):\n",
    "        r = sqrt(self.x*self.x + self.y*self.y);\n",
    "        return r;\n",
    "    \n",
    "    def randomize_dir(self):\n",
    "        r = self.length();\n",
    "        theta = random()*2*pi;\n",
    "        self.x = r*cos(theta);\n",
    "        self.y = r*sin(theta);\n",
    "        return self;\n",
    "    \n",
    "    def __str__(self):\n",
    "        return \"<{}, {}>\".format(self.x, self.y)\n",
    "    \n",
    "    def __repr__(self):\n",
    "        return \"<Point: {}, {}>\".format(self.x, self.y)\n",
    "        \n",
    "        \n",
    "p = Point(10,0)\n",
    "print(p)\n",
    "p.randomize_dir()\n",
    "print(p)\n",
    "print(p.length())"
   ]
  },
  {
   "cell_type": "markdown",
   "metadata": {},
   "source": [
    "As we will see, the idea of special methods (the ones with `__` bookends) will be sort of important with numpy."
   ]
  },
  {
   "cell_type": "markdown",
   "metadata": {},
   "source": [
    "Libraries\n",
    "=========\n",
    "\n",
    "In R we use a function to install libraries. Python requires us to use an external package manager and unfortunately there are a few choices. The most common among data scientists is probably one called \"Anaconda\" but there are many things I don't like about it. In this course we just use the more standard package manager \"pip\". In our Docker container we have both Python 2 and Python 3 and so we invoke library installation from Bash like this:\n",
    "\n",
    "```\n",
    "pip3 install numpy\n",
    "```\n",
    "\n",
    "This installs numpy (for instance).\n",
    "\n",
    "Import\n",
    "======\n",
    "\n",
    "Once we have a library we use some variation on import. Much like an R package, a Python library can be thought of as a package of exported symbols. When we say \"library(ggplot2)\" in R we (effectively) pull in all the symbols from ggplot2 into our environment (what really happens is that the ggplot2 package is placed on our environment stack, but the effect is the same). We can accomplish something similar like this:\n",
    "\n",
    "```\n",
    "from numpy.random import *\n",
    "binomial(100, 0.3, 100)\n",
    "```\n",
    "\n",
    "However this is not considered best practice among Python people. What you typically see is that the package is just imported and used with dot notation:\n",
    "\n",
    "```\n",
    "import pandas\n",
    "pandas.DataFrame({\"x\":[1,2,3],\"y\":[4,5,6]})\n",
    "```\n",
    "\n",
    "Since we don't always want to type out the full library name we sometimes give them a shorter, local, name:\n",
    "\n",
    "```\n",
    "import pandas as pd\n",
    "pd.DataFrame({\"x\":[1,2,3],\"y\":[4,5,6]})\n",
    "```\n",
    "\n",
    "This last one is the most common pattern."
   ]
  },
  {
   "cell_type": "markdown",
   "metadata": {},
   "source": [
    "Scientific Python\n",
    "=================\n",
    "\n",
    "Python, at its base, is a general purpose programming language originally designed for software engineers as a \"scripting\" language. This notion is less meaningful today than it was back in the dawn of time, but the idea was to let you write quick scripts to do common tasks without involving a compiler or complicated type systems.\n",
    "\n",
    "Its simple syntax and \"batteries included\" approach (roughly: most of the original tasks people used Python for were \"built in\" to the language), made Python very popular. And with popularity came the desire to use it in other contexts. \n",
    "\n",
    "The basis for all scientific computing in Python is the numpy library. Using numpy we can do many of the Array oriented programming tricks we are used to from R."
   ]
  },
  {
   "cell_type": "code",
   "execution_count": 4,
   "metadata": {},
   "outputs": [
    {
     "data": {
      "text/plain": [
       "array([11, 12, 13])"
      ]
     },
     "execution_count": 4,
     "metadata": {},
     "output_type": "execute_result"
    }
   ],
   "source": [
    "import numpy as np\n",
    "\n",
    "np.array([1,2,3]) + 10"
   ]
  },
  {
   "cell_type": "markdown",
   "metadata": {},
   "source": [
    "Note that we have to explicitly lift up at least one of the operands to a numpy array for the `+` method to get the idea."
   ]
  },
  {
   "cell_type": "code",
   "execution_count": 5,
   "metadata": {},
   "outputs": [
    {
     "data": {
      "text/plain": [
       "array([11, 12, 13])"
      ]
     },
     "execution_count": 5,
     "metadata": {},
     "output_type": "execute_result"
    }
   ],
   "source": [
    "[1,2,3] + np.array(10)"
   ]
  },
  {
   "cell_type": "markdown",
   "metadata": {},
   "source": [
    "But this is still an error. It is worth meditating on what is happening here. `+` has a set of default behaviors. But if either operand has a method called _add_ then that method is invoked instead.\n"
   ]
  },
  {
   "cell_type": "code",
   "execution_count": 3,
   "metadata": {},
   "outputs": [
    {
     "ename": "TypeError",
     "evalue": "can only concatenate list (not \"int\") to list",
     "output_type": "error",
     "traceback": [
      "\u001b[0;31m---------------------------------------------------------------------------\u001b[0m",
      "\u001b[0;31mTypeError\u001b[0m                                 Traceback (most recent call last)",
      "\u001b[0;32m/tmp/ipykernel_50/1582510158.py\u001b[0m in \u001b[0;36m<module>\u001b[0;34m\u001b[0m\n\u001b[0;32m----> 1\u001b[0;31m \u001b[0;34m[\u001b[0m\u001b[0;36m1\u001b[0m\u001b[0;34m,\u001b[0m\u001b[0;36m2\u001b[0m\u001b[0;34m,\u001b[0m\u001b[0;36m3\u001b[0m\u001b[0;34m]\u001b[0m \u001b[0;34m+\u001b[0m \u001b[0;36m10\u001b[0m\u001b[0;34m\u001b[0m\u001b[0;34m\u001b[0m\u001b[0m\n\u001b[0m",
      "\u001b[0;31mTypeError\u001b[0m: can only concatenate list (not \"int\") to list"
     ]
    }
   ],
   "source": [
    "[1,2,3] + 10"
   ]
  },
  {
   "cell_type": "markdown",
   "metadata": {},
   "source": [
    "We can create our own overloaded `+` behavior by adding a `__add__` method to our point class."
   ]
  },
  {
   "cell_type": "code",
   "execution_count": 6,
   "metadata": {},
   "outputs": [
    {
     "data": {
      "text/plain": [
       "<Point: 1, 1>"
      ]
     },
     "execution_count": 6,
     "metadata": {},
     "output_type": "execute_result"
    }
   ],
   "source": [
    "from random import random\n",
    "from math import sqrt, sin, cos, pi\n",
    "class Point:\n",
    "    x = 0\n",
    "    y = 0\n",
    "    def __init__(self, x, y):\n",
    "        self.x = x;\n",
    "        self.y = y;\n",
    "        \n",
    "    def length(self):\n",
    "        r = sqrt(self.x*self.x + self.y*self.y);\n",
    "        return r;\n",
    "    \n",
    "    def randomize_dir(self):\n",
    "        r = self.length();\n",
    "        theta = random()*2*pi;\n",
    "        self.x = r*cos(theta);\n",
    "        self.y = r*sin(theta);\n",
    "        return self;\n",
    "    \n",
    "    def __str__(self):\n",
    "        return \"<{}, {}>\".format(self.x, self.y)\n",
    "    \n",
    "    def __repr__(self):\n",
    "        return \"<Point: {}, {}>\".format(self.x, self.y)\n",
    "    \n",
    "    def __add__(self, other):\n",
    "        return Point(self.x + other.x, self.y + other.y)\n",
    "\n",
    "Point(1,0) + Point(0, 1)"
   ]
  },
  {
   "cell_type": "markdown",
   "metadata": {},
   "source": [
    "Of course, our Point class is made a little superfluous by the existence of the numpy library, which allows us to represent multidimensional vectors fairly straightforwardly."
   ]
  },
  {
   "cell_type": "code",
   "execution_count": 7,
   "metadata": {},
   "outputs": [
    {
     "data": {
      "text/plain": [
       "14.142135623730951"
      ]
     },
     "execution_count": 7,
     "metadata": {},
     "output_type": "execute_result"
    }
   ],
   "source": [
    "np.linalg.norm(np.array([10,10]))"
   ]
  },
  {
   "cell_type": "markdown",
   "metadata": {},
   "source": [
    "Numpy examples:"
   ]
  },
  {
   "cell_type": "code",
   "execution_count": 8,
   "metadata": {},
   "outputs": [
    {
     "name": "stdout",
     "output_type": "stream",
     "text": [
      "[5 7 9]\n",
      "[ 4 10 18]\n",
      "[70 80 90]\n",
      "240\n",
      "9\n",
      "[7 8]\n",
      "[1000    8    9]\n",
      "[1000 1001]\n",
      "[1000 1001    9]\n"
     ]
    }
   ],
   "source": [
    "v1 = np.array([1,2,3])\n",
    "v2 = np.array([4,5,6])\n",
    "v3 = np.array([7,8,9])\n",
    "\n",
    "c1 = 10;\n",
    "\n",
    "print(v1 + v2)\n",
    "print(v1*v2)\n",
    "print(c1*v3)\n",
    "print((c1*v3).sum())\n",
    "print(v3.max())\n",
    "\n",
    "s1 = v3[0:2]\n",
    "s2 = v3[1:3]\n",
    "print(s1)\n",
    "s1[0] = 1000\n",
    "print(v3)\n",
    "s2[0] = 1001\n",
    "print(s1)\n",
    "print(v3)"
   ]
  },
  {
   "cell_type": "markdown",
   "metadata": {},
   "source": [
    "Note that when we slice an array in numpy we get a reference to the internals of the array. If we modify the slice we modify the original array and all the other slices which might refer to it.\n",
    "\n",
    "This is actually really bad (though sometimes useful). It shouldn't be the default behavior because it lets our variables \"leak\". Almost always you want to slice and then copy."
   ]
  },
  {
   "cell_type": "code",
   "execution_count": 46,
   "metadata": {},
   "outputs": [
    {
     "name": "stdout",
     "output_type": "stream",
     "text": [
      "[4 5]\n",
      "[100   5]\n",
      "[4 5 6]\n"
     ]
    }
   ],
   "source": [
    "subset = v2[0:2].copy()\n",
    "print(subset);\n",
    "subset[0] = 100;\n",
    "print(subset)\n",
    "print(v2)"
   ]
  },
  {
   "cell_type": "markdown",
   "metadata": {},
   "source": [
    "Concluding Notes\n",
    "================\n",
    "\n",
    "There are many reasons to know Python. \n",
    "\n",
    "1. Its a general purpose programming language which is much closer in spirit to most currently popular languages. Thus, if you have any interest in writing software in general or just to support your data science lifestyle, Python is a powerful entrypoint into the broader world of software engineering.\n",
    "2. It at least gives the appearance of simplicity. \n",
    "3. It is extremely popular and thus forms a sort of lingua franca. Even libraries not written in Python often have Python bindings and, for instance, the major cloud infrastructure providers provide Python bindings to their API's.\n",
    "4. Python has some of the best or at least most diverse data science tools, as we will cover in the next few classes."
   ]
  },
  {
   "cell_type": "code",
   "execution_count": null,
   "metadata": {},
   "outputs": [],
   "source": []
  }
 ],
 "metadata": {
  "kernelspec": {
   "display_name": "Python 3 (ipykernel)",
   "language": "python",
   "name": "python3"
  },
  "language_info": {
   "codemirror_mode": {
    "name": "ipython",
    "version": 3
   },
   "file_extension": ".py",
   "mimetype": "text/x-python",
   "name": "python",
   "nbconvert_exporter": "python",
   "pygments_lexer": "ipython3",
   "version": "3.8.10"
  }
 },
 "nbformat": 4,
 "nbformat_minor": 4
}
